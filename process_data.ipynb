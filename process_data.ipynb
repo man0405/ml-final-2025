{
 "cells": [
  {
   "cell_type": "markdown",
   "id": "0717ed14",
   "metadata": {},
   "source": [
    "## Xử lý address"
   ]
  },
  {
   "cell_type": "code",
   "execution_count": 1,
   "id": "b571bc15",
   "metadata": {},
   "outputs": [],
   "source": [
    "import pandas as pd \n",
    "\n",
    "dataset = pd.read_csv('vietnam_housing_dataset_final.csv')\n",
    "cell_filter = pd.read_csv('vietnam_grid_5s.csv')\n",
    "\n"
   ]
  },
  {
   "cell_type": "code",
   "execution_count": 2,
   "id": "9d9b1a7d",
   "metadata": {},
   "outputs": [
    {
     "data": {
      "text/plain": [
       "Address                  0\n",
       "Area                     0\n",
       "Frontage             11563\n",
       "Access Road          13296\n",
       "House direction      21238\n",
       "Balcony direction    24982\n",
       "Floors                3603\n",
       "Bedrooms              5162\n",
       "Bathrooms             7073\n",
       "Legal status          4506\n",
       "Furniture state      14119\n",
       "Price                    0\n",
       "longitude              385\n",
       "latitude               385\n",
       "price_per_m2             0\n",
       "dtype: int64"
      ]
     },
     "execution_count": 2,
     "metadata": {},
     "output_type": "execute_result"
    }
   ],
   "source": [
    "dataset.head()\n",
    "# check null values\n",
    "dataset.isnull().sum()\n"
   ]
  },
  {
   "cell_type": "code",
   "execution_count": 3,
   "id": "df66055b",
   "metadata": {},
   "outputs": [
    {
     "data": {
      "text/html": [
       "<div>\n",
       "<style scoped>\n",
       "    .dataframe tbody tr th:only-of-type {\n",
       "        vertical-align: middle;\n",
       "    }\n",
       "\n",
       "    .dataframe tbody tr th {\n",
       "        vertical-align: top;\n",
       "    }\n",
       "\n",
       "    .dataframe thead th {\n",
       "        text-align: right;\n",
       "    }\n",
       "</style>\n",
       "<table border=\"1\" class=\"dataframe\">\n",
       "  <thead>\n",
       "    <tr style=\"text-align: right;\">\n",
       "      <th></th>\n",
       "      <th>lat</th>\n",
       "      <th>log</th>\n",
       "      <th>quantity</th>\n",
       "      <th>total_price</th>\n",
       "    </tr>\n",
       "  </thead>\n",
       "  <tbody>\n",
       "    <tr>\n",
       "      <th>0</th>\n",
       "      <td>10.366667</td>\n",
       "      <td>106.350000</td>\n",
       "      <td>1.0</td>\n",
       "      <td>0.014900</td>\n",
       "    </tr>\n",
       "    <tr>\n",
       "      <th>1</th>\n",
       "      <td>10.500000</td>\n",
       "      <td>107.166667</td>\n",
       "      <td>1.0</td>\n",
       "      <td>0.096203</td>\n",
       "    </tr>\n",
       "    <tr>\n",
       "      <th>2</th>\n",
       "      <td>10.900000</td>\n",
       "      <td>106.800000</td>\n",
       "      <td>15.0</td>\n",
       "      <td>1.018669</td>\n",
       "    </tr>\n",
       "    <tr>\n",
       "      <th>3</th>\n",
       "      <td>10.950000</td>\n",
       "      <td>106.600000</td>\n",
       "      <td>2.0</td>\n",
       "      <td>0.060135</td>\n",
       "    </tr>\n",
       "    <tr>\n",
       "      <th>4</th>\n",
       "      <td>10.966667</td>\n",
       "      <td>106.466667</td>\n",
       "      <td>6.0</td>\n",
       "      <td>0.338310</td>\n",
       "    </tr>\n",
       "  </tbody>\n",
       "</table>\n",
       "</div>"
      ],
      "text/plain": [
       "         lat         log  quantity  total_price\n",
       "0  10.366667  106.350000       1.0     0.014900\n",
       "1  10.500000  107.166667       1.0     0.096203\n",
       "2  10.900000  106.800000      15.0     1.018669\n",
       "3  10.950000  106.600000       2.0     0.060135\n",
       "4  10.966667  106.466667       6.0     0.338310"
      ]
     },
     "execution_count": 3,
     "metadata": {},
     "output_type": "execute_result"
    }
   ],
   "source": [
    "cell_filter.head()\n"
   ]
  },
  {
   "cell_type": "code",
   "execution_count": 4,
   "id": "e380f601",
   "metadata": {},
   "outputs": [
    {
     "data": {
      "text/plain": [
       "Address                  0\n",
       "Area                     0\n",
       "Frontage             11397\n",
       "Access Road          13107\n",
       "House direction      21020\n",
       "Balcony direction    24692\n",
       "Floors                3511\n",
       "Bedrooms              5034\n",
       "Bathrooms             6920\n",
       "Legal status          4425\n",
       "Furniture state      13861\n",
       "Price                    0\n",
       "longitude                0\n",
       "latitude                 0\n",
       "price_per_m2             0\n",
       "dtype: int64"
      ]
     },
     "execution_count": 4,
     "metadata": {},
     "output_type": "execute_result"
    }
   ],
   "source": [
    "dataset = dataset.dropna(subset=['latitude', 'longitude'])\n",
    "\n",
    "dataset.isna().sum()"
   ]
  },
  {
   "cell_type": "code",
   "execution_count": 5,
   "id": "29a3624a",
   "metadata": {},
   "outputs": [
    {
     "data": {
      "text/plain": [
       "lat            0\n",
       "log            0\n",
       "quantity       0\n",
       "total_price    0\n",
       "dtype: int64"
      ]
     },
     "execution_count": 5,
     "metadata": {},
     "output_type": "execute_result"
    }
   ],
   "source": [
    "cell_filter.isna().sum()"
   ]
  },
  {
   "cell_type": "code",
   "execution_count": 6,
   "id": "567e373a",
   "metadata": {},
   "outputs": [
    {
     "name": "stdout",
     "output_type": "stream",
     "text": [
      "Coordinates with matching avg_price: 29841\n",
      "Total coordinates: 29841\n"
     ]
    },
    {
     "data": {
      "text/html": [
       "<div>\n",
       "<style scoped>\n",
       "    .dataframe tbody tr th:only-of-type {\n",
       "        vertical-align: middle;\n",
       "    }\n",
       "\n",
       "    .dataframe tbody tr th {\n",
       "        vertical-align: top;\n",
       "    }\n",
       "\n",
       "    .dataframe thead th {\n",
       "        text-align: right;\n",
       "    }\n",
       "</style>\n",
       "<table border=\"1\" class=\"dataframe\">\n",
       "  <thead>\n",
       "    <tr style=\"text-align: right;\">\n",
       "      <th></th>\n",
       "      <th>Address</th>\n",
       "      <th>Area</th>\n",
       "      <th>Frontage</th>\n",
       "      <th>Access Road</th>\n",
       "      <th>House direction</th>\n",
       "      <th>Balcony direction</th>\n",
       "      <th>Floors</th>\n",
       "      <th>Bedrooms</th>\n",
       "      <th>Bathrooms</th>\n",
       "      <th>Legal status</th>\n",
       "      <th>Furniture state</th>\n",
       "      <th>Price</th>\n",
       "      <th>longitude</th>\n",
       "      <th>latitude</th>\n",
       "      <th>price_per_m2</th>\n",
       "      <th>avg_price</th>\n",
       "    </tr>\n",
       "  </thead>\n",
       "  <tbody>\n",
       "    <tr>\n",
       "      <th>0</th>\n",
       "      <td>Dự án The Empire - Vinhomes Ocean Park 2, Xã L...</td>\n",
       "      <td>84.0</td>\n",
       "      <td>NaN</td>\n",
       "      <td>NaN</td>\n",
       "      <td>NaN</td>\n",
       "      <td>NaN</td>\n",
       "      <td>4.0</td>\n",
       "      <td>NaN</td>\n",
       "      <td>NaN</td>\n",
       "      <td>Have certificate</td>\n",
       "      <td>NaN</td>\n",
       "      <td>8.60</td>\n",
       "      <td>106.054036</td>\n",
       "      <td>20.656841</td>\n",
       "      <td>0.102381</td>\n",
       "      <td>0.118496</td>\n",
       "    </tr>\n",
       "    <tr>\n",
       "      <th>1</th>\n",
       "      <td>Dự án The Crown - Vinhomes Ocean Park 3, Xã Ng...</td>\n",
       "      <td>60.0</td>\n",
       "      <td>NaN</td>\n",
       "      <td>NaN</td>\n",
       "      <td>NaN</td>\n",
       "      <td>NaN</td>\n",
       "      <td>5.0</td>\n",
       "      <td>NaN</td>\n",
       "      <td>NaN</td>\n",
       "      <td>NaN</td>\n",
       "      <td>NaN</td>\n",
       "      <td>7.50</td>\n",
       "      <td>106.054036</td>\n",
       "      <td>20.656841</td>\n",
       "      <td>0.125000</td>\n",
       "      <td>0.118496</td>\n",
       "    </tr>\n",
       "    <tr>\n",
       "      <th>2</th>\n",
       "      <td>Dự án The Crown - Vinhomes Ocean Park 3, Xã Ng...</td>\n",
       "      <td>90.0</td>\n",
       "      <td>6.0</td>\n",
       "      <td>13.0</td>\n",
       "      <td>Đông - Bắc</td>\n",
       "      <td>Đông - Bắc</td>\n",
       "      <td>5.0</td>\n",
       "      <td>NaN</td>\n",
       "      <td>NaN</td>\n",
       "      <td>Sale contract</td>\n",
       "      <td>NaN</td>\n",
       "      <td>8.90</td>\n",
       "      <td>106.054036</td>\n",
       "      <td>20.656841</td>\n",
       "      <td>0.098889</td>\n",
       "      <td>0.118496</td>\n",
       "    </tr>\n",
       "    <tr>\n",
       "      <th>3</th>\n",
       "      <td>Đường Nguyễn Văn Khối, Phường 11, Gò Vấp, Hồ C...</td>\n",
       "      <td>54.0</td>\n",
       "      <td>NaN</td>\n",
       "      <td>3.5</td>\n",
       "      <td>Tây - Nam</td>\n",
       "      <td>Tây - Nam</td>\n",
       "      <td>2.0</td>\n",
       "      <td>2.0</td>\n",
       "      <td>3.0</td>\n",
       "      <td>Have certificate</td>\n",
       "      <td>Full</td>\n",
       "      <td>5.35</td>\n",
       "      <td>106.649372</td>\n",
       "      <td>10.843596</td>\n",
       "      <td>0.099074</td>\n",
       "      <td>0.113096</td>\n",
       "    </tr>\n",
       "    <tr>\n",
       "      <th>4</th>\n",
       "      <td>Đường Quang Trung, Phường 8, Gò Vấp, Hồ Chí Minh</td>\n",
       "      <td>92.0</td>\n",
       "      <td>NaN</td>\n",
       "      <td>NaN</td>\n",
       "      <td>Đông - Nam</td>\n",
       "      <td>Đông - Nam</td>\n",
       "      <td>2.0</td>\n",
       "      <td>4.0</td>\n",
       "      <td>4.0</td>\n",
       "      <td>Have certificate</td>\n",
       "      <td>Full</td>\n",
       "      <td>6.90</td>\n",
       "      <td>106.646268</td>\n",
       "      <td>10.840036</td>\n",
       "      <td>0.075000</td>\n",
       "      <td>0.107876</td>\n",
       "    </tr>\n",
       "  </tbody>\n",
       "</table>\n",
       "</div>"
      ],
      "text/plain": [
       "                                             Address  Area  Frontage  \\\n",
       "0  Dự án The Empire - Vinhomes Ocean Park 2, Xã L...  84.0       NaN   \n",
       "1  Dự án The Crown - Vinhomes Ocean Park 3, Xã Ng...  60.0       NaN   \n",
       "2  Dự án The Crown - Vinhomes Ocean Park 3, Xã Ng...  90.0       6.0   \n",
       "3  Đường Nguyễn Văn Khối, Phường 11, Gò Vấp, Hồ C...  54.0       NaN   \n",
       "4   Đường Quang Trung, Phường 8, Gò Vấp, Hồ Chí Minh  92.0       NaN   \n",
       "\n",
       "   Access Road House direction Balcony direction  Floors  Bedrooms  Bathrooms  \\\n",
       "0          NaN             NaN               NaN     4.0       NaN        NaN   \n",
       "1          NaN             NaN               NaN     5.0       NaN        NaN   \n",
       "2         13.0      Đông - Bắc        Đông - Bắc     5.0       NaN        NaN   \n",
       "3          3.5       Tây - Nam         Tây - Nam     2.0       2.0        3.0   \n",
       "4          NaN      Đông - Nam        Đông - Nam     2.0       4.0        4.0   \n",
       "\n",
       "       Legal status Furniture state  Price   longitude   latitude  \\\n",
       "0  Have certificate             NaN   8.60  106.054036  20.656841   \n",
       "1               NaN             NaN   7.50  106.054036  20.656841   \n",
       "2     Sale contract             NaN   8.90  106.054036  20.656841   \n",
       "3  Have certificate            Full   5.35  106.649372  10.843596   \n",
       "4  Have certificate            Full   6.90  106.646268  10.840036   \n",
       "\n",
       "   price_per_m2  avg_price  \n",
       "0      0.102381   0.118496  \n",
       "1      0.125000   0.118496  \n",
       "2      0.098889   0.118496  \n",
       "3      0.099074   0.113096  \n",
       "4      0.075000   0.107876  "
      ]
     },
     "execution_count": 6,
     "metadata": {},
     "output_type": "execute_result"
    }
   ],
   "source": [
    "# Rename 'log' column to 'lon' in cell_filter for clarity\n",
    "cell_filter = cell_filter.rename(columns={'log': 'lon'})\n",
    "\n",
    "# Create a new column 'avg_price' in cell_filter\n",
    "cell_filter['avg_price'] = cell_filter['total_price'] / cell_filter['quantity']\n",
    "\n",
    "# Create a new dataset with replaced coordinates\n",
    "dataset_with_avg_price = dataset.copy()\n",
    "\n",
    "# Define a small epsilon for coordinate matching (0.00001389 as specified)\n",
    "epsilon = 0.00001389\n",
    "\n",
    "# Function to find avg_price for given lat/lon coordinates\n",
    "def get_avg_price(lat, lon):\n",
    "    matches = cell_filter[(cell_filter['lat'] <= lat) & (lat <= cell_filter['lat'] + epsilon) & \n",
    "                         (cell_filter['lon'] <= lon) & (lon <= cell_filter['lon'] + epsilon)]\n",
    "    \n",
    "    if len(matches) > 0:\n",
    "        return matches['avg_price'].mean()\n",
    "    else:\n",
    "        return cell_filter['avg_price'].mean()\n",
    "\n",
    "# Apply function to each row to get avg_price\n",
    "dataset_with_avg_price['avg_price'] = dataset_with_avg_price.apply(\n",
    "    lambda row: get_avg_price(row['latitude'], row['longitude']), axis=1)\n",
    "\n",
    "# Show how many coordinates were matched\n",
    "print(f\"Coordinates with matching avg_price: {dataset_with_avg_price['avg_price'].count()}\")\n",
    "print(f\"Total coordinates: {len(dataset_with_avg_price)}\")\n",
    "\n",
    "\n",
    "# Display the first few rows of the updated dataset\n",
    "dataset_with_avg_price.head()"
   ]
  },
  {
   "cell_type": "markdown",
   "id": "ba2b63d2",
   "metadata": {},
   "source": [
    "## Drop columns:  latitude, longitude, Address, price_per_m2 House direction, Balcony direction, Frontage, Access Road"
   ]
  },
  {
   "cell_type": "code",
   "execution_count": 7,
   "id": "c07b6f93",
   "metadata": {},
   "outputs": [
    {
     "data": {
      "text/plain": [
       "Index(['Address', 'Area', 'Frontage', 'Access Road', 'House direction',\n",
       "       'Balcony direction', 'Floors', 'Bedrooms', 'Bathrooms', 'Legal status',\n",
       "       'Furniture state', 'Price', 'longitude', 'latitude', 'price_per_m2',\n",
       "       'avg_price'],\n",
       "      dtype='object')"
      ]
     },
     "execution_count": 7,
     "metadata": {},
     "output_type": "execute_result"
    }
   ],
   "source": [
    "dataset_with_avg_price.columns"
   ]
  },
  {
   "cell_type": "code",
   "execution_count": 8,
   "id": "428c9244",
   "metadata": {},
   "outputs": [],
   "source": [
    "dataset_with_avg_price.drop(columns=['latitude', 'longitude', 'Address', 'price_per_m2'], inplace=True)"
   ]
  },
  {
   "cell_type": "code",
   "execution_count": 9,
   "id": "06a47545",
   "metadata": {},
   "outputs": [
    {
     "data": {
      "text/plain": [
       "Index(['Area', 'Frontage', 'Access Road', 'House direction',\n",
       "       'Balcony direction', 'Floors', 'Bedrooms', 'Bathrooms', 'Legal status',\n",
       "       'Furniture state', 'Price', 'avg_price'],\n",
       "      dtype='object')"
      ]
     },
     "execution_count": 9,
     "metadata": {},
     "output_type": "execute_result"
    }
   ],
   "source": [
    "dataset_with_avg_price.columns"
   ]
  },
  {
   "cell_type": "code",
   "execution_count": 10,
   "id": "ca6bbad0",
   "metadata": {},
   "outputs": [
    {
     "data": {
      "text/plain": [
       "Area                   0\n",
       "Floors              3511\n",
       "Bedrooms            5034\n",
       "Bathrooms           6920\n",
       "Legal status        4425\n",
       "Furniture state    13861\n",
       "Price                  0\n",
       "avg_price              0\n",
       "dtype: int64"
      ]
     },
     "execution_count": 10,
     "metadata": {},
     "output_type": "execute_result"
    }
   ],
   "source": [
    "dataset_with_avg_price = dataset_with_avg_price.drop(['House direction', 'Balcony direction', 'Frontage', 'Access Road'], axis=1, errors='ignore')\n",
    "dataset_with_avg_price.isnull().sum()"
   ]
  },
  {
   "cell_type": "code",
   "execution_count": 11,
   "id": "a50bfd5b",
   "metadata": {},
   "outputs": [
    {
     "data": {
      "text/plain": [
       "Area                   0\n",
       "Floors                 0\n",
       "Bedrooms            5034\n",
       "Bathrooms           6920\n",
       "Legal status        4425\n",
       "Furniture state    13861\n",
       "Price                  0\n",
       "avg_price              0\n",
       "dtype: int64"
      ]
     },
     "execution_count": 11,
     "metadata": {},
     "output_type": "execute_result"
    }
   ],
   "source": [
    "mean_floor = dataset_with_avg_price['Floors'].mean()\n",
    "dataset_with_avg_price['Floors'] = dataset_with_avg_price['Floors'].fillna(mean_floor)\n",
    "dataset_with_avg_price.isnull().sum()"
   ]
  },
  {
   "cell_type": "markdown",
   "id": "0e67b42a",
   "metadata": {},
   "source": [
    "## Xử lý missing phòng tắm"
   ]
  },
  {
   "cell_type": "code",
   "execution_count": 12,
   "id": "6e78666a",
   "metadata": {},
   "outputs": [
    {
     "name": "stdout",
     "output_type": "stream",
     "text": [
      "Số lượng dữ liệu có Bedrooms > 1 là: 24807\n"
     ]
    },
    {
     "data": {
      "image/png": "[encoded data removed]",
      "text/plain": [
       "<Figure size 600x400 with 1 Axes>"
      ]
     },
     "metadata": {},
     "output_type": "display_data"
    },
    {
     "data": {
      "text/plain": [
       "np.float64(3.507276172048212)"
      ]
     },
     "execution_count": 12,
     "metadata": {},
     "output_type": "execute_result"
    }
   ],
   "source": [
    "import matplotlib.pyplot as plt\n",
    "\n",
    "filtered_df = dataset_with_avg_price[dataset_with_avg_price['Bedrooms'] >= 1]\n",
    "\n",
    "# Đếm số lượng mỗi tầng (sau khi lọc)\n",
    "floor_counts = filtered_df['Bedrooms'].value_counts().sort_index()\n",
    "\n",
    "# In số lượng dòng thỏa điều kiện > 1\n",
    "print(f\"Số lượng dữ liệu có Bedrooms > 1 là: {len(filtered_df)}\")\n",
    "\n",
    "plt.figure(figsize=(6, 4))\n",
    "plt.bar(floor_counts.index, floor_counts.values, color='lightgreen')\n",
    "plt.xlabel('Bedrooms')\n",
    "plt.ylabel('Số lượng')\n",
    "plt.title('Số lượng các tầng có Bedrooms > 1')\n",
    "plt.xticks(floor_counts.index)\n",
    "plt.grid(axis='y', linestyle='--', alpha=0.6)\n",
    "plt.tight_layout()\n",
    "plt.show()\n",
    "dataset_with_avg_price['Bedrooms'].mean()\n"
   ]
  },
  {
   "cell_type": "code",
   "execution_count": 13,
   "id": "78d56c91",
   "metadata": {},
   "outputs": [
    {
     "data": {
      "image/png": "[encoded data removed]",
      "text/plain": [
       "<Figure size 800x500 with 1 Axes>"
      ]
     },
     "metadata": {},
     "output_type": "display_data"
    }
   ],
   "source": [
    "import matplotlib.pyplot as plt\n",
    "\n",
    "# Nhóm theo số lượng phòng tắm, tính giá trung bình\n",
    "avg_price_by_bathroom = dataset_with_avg_price.groupby('Bathrooms')['Price'].mean().sort_index()\n",
    "\n",
    "# Vẽ biểu đồ cột\n",
    "plt.figure(figsize=(8, 5))\n",
    "plt.bar(avg_price_by_bathroom.index, avg_price_by_bathroom.values, color='skyblue')\n",
    "\n",
    "plt.xlabel('Số phòng tắm (Bathrooms)')\n",
    "plt.ylabel('Giá trung bình (Price)')\n",
    "plt.title('Giá trung bình theo số lượng phòng tắm')\n",
    "plt.xticks(avg_price_by_bathroom.index)\n",
    "plt.grid(axis='y', linestyle='--', alpha=0.6)\n",
    "plt.tight_layout()\n",
    "plt.show()\n"
   ]
  },
  {
   "cell_type": "code",
   "execution_count": 14,
   "id": "6b651db9",
   "metadata": {},
   "outputs": [
    {
     "name": "stdout",
     "output_type": "stream",
     "text": [
      "Area                   0\n",
      "Floors                 0\n",
      "Bedrooms            5034\n",
      "Bathrooms              0\n",
      "Legal status        4425\n",
      "Furniture state    13861\n",
      "Price                  0\n",
      "avg_price              0\n",
      "dtype: int64\n"
     ]
    }
   ],
   "source": [
    "import numpy as np\n",
    "condlist = [\n",
    "    (dataset_with_avg_price['Bathrooms'].isna()) & (dataset_with_avg_price['Price'] < 4),\n",
    "    (dataset_with_avg_price['Bathrooms'].isna()) & (dataset_with_avg_price['Price'] >= 4) & (dataset_with_avg_price['Price'] < 5),\n",
    "    (dataset_with_avg_price['Bathrooms'].isna()) & (dataset_with_avg_price['Price'] >= 5) & (dataset_with_avg_price['Price'] < 6),\n",
    "    (dataset_with_avg_price['Bathrooms'].isna()) & (dataset_with_avg_price['Price'] >= 6)\n",
    "]\n",
    "\n",
    "choicelist = [1, 2, 3, 4]\n",
    "\n",
    "dataset_with_avg_price['Bathrooms'] = np.select(condlist, choicelist, default=dataset_with_avg_price['Bathrooms'])\n",
    "print(dataset_with_avg_price.isnull().sum())\n"
   ]
  },
  {
   "cell_type": "markdown",
   "id": "69cb469f",
   "metadata": {},
   "source": [
    "## Xử lý missing phòng ngủ"
   ]
  },
  {
   "cell_type": "code",
   "execution_count": 15,
   "id": "62b86b96",
   "metadata": {},
   "outputs": [
    {
     "data": {
      "image/png": "[encoded data removed]",
      "text/plain": [
       "<Figure size 800x500 with 1 Axes>"
      ]
     },
     "metadata": {},
     "output_type": "display_data"
    }
   ],
   "source": [
    "avg_price_by_bathroom = dataset_with_avg_price.groupby('Bedrooms')['Price'].mean().sort_index()\n",
    "\n",
    "# Vẽ biểu đồ cột\n",
    "plt.figure(figsize=(8, 5))\n",
    "plt.bar(avg_price_by_bathroom.index, avg_price_by_bathroom.values, color='skyblue')\n",
    "\n",
    "plt.xlabel('Số phòngngu (Bedrooms)')\n",
    "plt.ylabel('Giá trung bình (Price)')\n",
    "plt.title('Giá trung bình theo số lượng phòng ngu')\n",
    "plt.xticks(avg_price_by_bathroom.index)\n",
    "plt.grid(axis='y', linestyle='--', alpha=0.6)\n",
    "plt.tight_layout()\n",
    "plt.show()"
   ]
  },
  {
   "cell_type": "code",
   "execution_count": 16,
   "id": "bcff81c6",
   "metadata": {},
   "outputs": [
    {
     "name": "stdout",
     "output_type": "stream",
     "text": [
      "['Area', 'Floors', 'Bedrooms', 'Bathrooms', 'Legal status', 'Furniture state', 'Price', 'avg_price']\n",
      "Area                  0\n",
      "Floors                0\n",
      "Bedrooms              0\n",
      "Bathrooms             0\n",
      "Legal status       2715\n",
      "Furniture state    9872\n",
      "Price                 0\n",
      "avg_price             0\n",
      "dtype: int64\n"
     ]
    }
   ],
   "source": [
    "dataset_with_avg_price = dataset_with_avg_price.dropna(subset=['Bedrooms'])\n",
    "print(dataset_with_avg_price.columns.tolist())\n",
    "print(dataset_with_avg_price.isnull().sum())\n"
   ]
  },
  {
   "cell_type": "markdown",
   "id": "8f73e993",
   "metadata": {},
   "source": [
    "## Xử lý Legal status, Furniture state"
   ]
  },
  {
   "cell_type": "code",
   "execution_count": 17,
   "id": "2286acdf",
   "metadata": {},
   "outputs": [
    {
     "name": "stdout",
     "output_type": "stream",
     "text": [
      "Furniture state\n",
      "Full     9867\n",
      "Basic    5068\n",
      "Name: count, dtype: int64\n"
     ]
    }
   ],
   "source": [
    "\n",
    "furniture_state_counts = dataset_with_avg_price['Furniture state'].value_counts()\n",
    "print(furniture_state_counts)"
   ]
  },
  {
   "cell_type": "code",
   "execution_count": 18,
   "id": "231d6908",
   "metadata": {},
   "outputs": [
    {
     "name": "stderr",
     "output_type": "stream",
     "text": [
      "/var/folders/tf/fngz35997ng7b3kcf57tsz700000gn/T/ipykernel_35721/3237476108.py:3: FutureWarning: Downcasting behavior in `replace` is deprecated and will be removed in a future version. To retain the old behavior, explicitly call `result.infer_objects(copy=False)`. To opt-in to the future behavior, set `pd.set_option('future.no_silent_downcasting', True)`\n",
      "  dataset_with_avg_price['Furniture state'] = dataset_with_avg_price['Furniture state'].replace({\n"
     ]
    }
   ],
   "source": [
    "# split to 3 columns with value 0 , 1 \n",
    "dataset_with_avg_price['Furniture state'] = dataset_with_avg_price['Furniture state'].str.lower()\n",
    "dataset_with_avg_price['Furniture state'] = dataset_with_avg_price['Furniture state'].replace({\n",
    "    'full': 1,\n",
    "    'basic': 0.5,\n",
    "})\n",
    "\n",
    "dataset_with_avg_price['Furniture state'] = dataset_with_avg_price['Furniture state'].fillna(0)\n"
   ]
  },
  {
   "cell_type": "code",
   "execution_count": 19,
   "id": "97cc5ab8",
   "metadata": {},
   "outputs": [
    {
     "name": "stdout",
     "output_type": "stream",
     "text": [
      "Furniture state\n",
      "0.0    9872\n",
      "1.0    9867\n",
      "0.5    5068\n",
      "Name: count, dtype: int64\n"
     ]
    }
   ],
   "source": [
    "furniture_state_counts = dataset_with_avg_price['Furniture state'].value_counts()\n",
    "print(furniture_state_counts)"
   ]
  },
  {
   "cell_type": "code",
   "execution_count": 20,
   "id": "ae6fe1da",
   "metadata": {},
   "outputs": [
    {
     "name": "stdout",
     "output_type": "stream",
     "text": [
      "Legal status\n",
      "Have certificate    21430\n",
      "Sale contract         662\n",
      "Name: count, dtype: int64\n"
     ]
    }
   ],
   "source": [
    "legal_status_counts = dataset_with_avg_price['Legal status'].value_counts()\n",
    "print(legal_status_counts)"
   ]
  },
  {
   "cell_type": "code",
   "execution_count": 21,
   "id": "7c3a809e",
   "metadata": {},
   "outputs": [
    {
     "name": "stdout",
     "output_type": "stream",
     "text": [
      "Area                             0\n",
      "Floors                           0\n",
      "Bedrooms                         0\n",
      "Bathrooms                        0\n",
      "Furniture state                  0\n",
      "Price                            0\n",
      "avg_price                        0\n",
      "Legal_status_NAN                 0\n",
      "Legal_status_have_certificate    0\n",
      "Legal_status_sales_contract      0\n",
      "dtype: int64\n"
     ]
    }
   ],
   "source": [
    "# split the 'Legal status' column into two new columns\n",
    "dataset_with_avg_price['Legal_status_NAN'] = dataset_with_avg_price['Legal status'].isna().astype(int)\n",
    "dataset_with_avg_price['Legal_status_have_certificate'] = dataset_with_avg_price['Legal status'].apply(lambda x: 1 if x == 'Have certificate' else 0)\n",
    "dataset_with_avg_price['Legal_status_sales_contract'] = dataset_with_avg_price['Legal status'].apply(lambda x: 1 if x == 'Sale contract' else 0)\n",
    "dataset_with_avg_price = dataset_with_avg_price.drop(columns=['Legal status'], errors='ignore')\n",
    "print(dataset_with_avg_price.isnull().sum())\n",
    "\n"
   ]
  },
  {
   "cell_type": "code",
   "execution_count": null,
   "id": "fd0a6822",
   "metadata": {},
   "outputs": [],
   "source": []
  },
  {
   "cell_type": "code",
   "execution_count": 22,
   "id": "5b20f161",
   "metadata": {},
   "outputs": [
    {
     "data": {
      "text/html": [
       "<div>\n",
       "<style scoped>\n",
       "    .dataframe tbody tr th:only-of-type {\n",
       "        vertical-align: middle;\n",
       "    }\n",
       "\n",
       "    .dataframe tbody tr th {\n",
       "        vertical-align: top;\n",
       "    }\n",
       "\n",
       "    .dataframe thead th {\n",
       "        text-align: right;\n",
       "    }\n",
       "</style>\n",
       "<table border=\"1\" class=\"dataframe\">\n",
       "  <thead>\n",
       "    <tr style=\"text-align: right;\">\n",
       "      <th></th>\n",
       "      <th>Area</th>\n",
       "      <th>Floors</th>\n",
       "      <th>Bedrooms</th>\n",
       "      <th>Bathrooms</th>\n",
       "      <th>Furniture state</th>\n",
       "      <th>Price</th>\n",
       "      <th>avg_price</th>\n",
       "      <th>Legal_status_NAN</th>\n",
       "      <th>Legal_status_have_certificate</th>\n",
       "      <th>Legal_status_sales_contract</th>\n",
       "    </tr>\n",
       "  </thead>\n",
       "  <tbody>\n",
       "    <tr>\n",
       "      <th>3</th>\n",
       "      <td>54.0</td>\n",
       "      <td>2.0</td>\n",
       "      <td>2.0</td>\n",
       "      <td>3.0</td>\n",
       "      <td>1.0</td>\n",
       "      <td>5.35</td>\n",
       "      <td>0.113096</td>\n",
       "      <td>0</td>\n",
       "      <td>1</td>\n",
       "      <td>0</td>\n",
       "    </tr>\n",
       "    <tr>\n",
       "      <th>4</th>\n",
       "      <td>92.0</td>\n",
       "      <td>2.0</td>\n",
       "      <td>4.0</td>\n",
       "      <td>4.0</td>\n",
       "      <td>1.0</td>\n",
       "      <td>6.90</td>\n",
       "      <td>0.107876</td>\n",
       "      <td>0</td>\n",
       "      <td>1</td>\n",
       "      <td>0</td>\n",
       "    </tr>\n",
       "    <tr>\n",
       "      <th>7</th>\n",
       "      <td>74.0</td>\n",
       "      <td>5.0</td>\n",
       "      <td>4.0</td>\n",
       "      <td>5.0</td>\n",
       "      <td>0.0</td>\n",
       "      <td>9.90</td>\n",
       "      <td>0.065928</td>\n",
       "      <td>0</td>\n",
       "      <td>1</td>\n",
       "      <td>0</td>\n",
       "    </tr>\n",
       "    <tr>\n",
       "      <th>8</th>\n",
       "      <td>48.0</td>\n",
       "      <td>5.0</td>\n",
       "      <td>6.0</td>\n",
       "      <td>3.0</td>\n",
       "      <td>0.5</td>\n",
       "      <td>5.70</td>\n",
       "      <td>0.118496</td>\n",
       "      <td>1</td>\n",
       "      <td>0</td>\n",
       "      <td>0</td>\n",
       "    </tr>\n",
       "    <tr>\n",
       "      <th>10</th>\n",
       "      <td>80.0</td>\n",
       "      <td>5.0</td>\n",
       "      <td>6.0</td>\n",
       "      <td>6.0</td>\n",
       "      <td>0.0</td>\n",
       "      <td>10.00</td>\n",
       "      <td>0.118496</td>\n",
       "      <td>0</td>\n",
       "      <td>1</td>\n",
       "      <td>0</td>\n",
       "    </tr>\n",
       "  </tbody>\n",
       "</table>\n",
       "</div>"
      ],
      "text/plain": [
       "    Area  Floors  Bedrooms  Bathrooms  Furniture state  Price  avg_price  \\\n",
       "3   54.0     2.0       2.0        3.0              1.0   5.35   0.113096   \n",
       "4   92.0     2.0       4.0        4.0              1.0   6.90   0.107876   \n",
       "7   74.0     5.0       4.0        5.0              0.0   9.90   0.065928   \n",
       "8   48.0     5.0       6.0        3.0              0.5   5.70   0.118496   \n",
       "10  80.0     5.0       6.0        6.0              0.0  10.00   0.118496   \n",
       "\n",
       "    Legal_status_NAN  Legal_status_have_certificate  \\\n",
       "3                  0                              1   \n",
       "4                  0                              1   \n",
       "7                  0                              1   \n",
       "8                  1                              0   \n",
       "10                 0                              1   \n",
       "\n",
       "    Legal_status_sales_contract  \n",
       "3                             0  \n",
       "4                             0  \n",
       "7                             0  \n",
       "8                             0  \n",
       "10                            0  "
      ]
     },
     "execution_count": 22,
     "metadata": {},
     "output_type": "execute_result"
    }
   ],
   "source": [
    "dataset_with_avg_price.head()"
   ]
  },
  {
   "cell_type": "code",
   "execution_count": 23,
   "id": "ad1bf58d",
   "metadata": {},
   "outputs": [],
   "source": [
    "# export file dataset csv\n",
    "dataset_with_avg_price.to_csv('data_train.csv', index=False)"
   ]
  },
  {
   "cell_type": "code",
   "execution_count": null,
   "id": "eb559255",
   "metadata": {},
   "outputs": [],
   "source": []
  }
 ],
 "metadata": {
  "kernelspec": {
   "display_name": "venv (3.13.3)",
   "language": "python",
   "name": "python3"
  },
  "language_info": {
   "codemirror_mode": {
    "name": "ipython",
    "version": 3
   },
   "file_extension": ".py",
   "mimetype": "text/x-python",
   "name": "python",
   "nbconvert_exporter": "python",
   "pygments_lexer": "ipython3",
   "version": "3.13.3"
  }
 },
 "nbformat": 4,
 "nbformat_minor": 5
}
