{
 "cells": [
  {
   "cell_type": "code",
   "execution_count": 9,
   "id": "8834b805",
   "metadata": {},
   "outputs": [],
   "source": [
    "import pandas as pd\n",
    "cell_filter = pd.read_csv('data/vietnam_grid_5s.csv')\n",
    "cell_filter['avg_price'] = cell_filter['total_price'] / cell_filter['quantity']\n",
    "\n",
    "epsilon = 0.01389\n",
    "\n",
    "def get_avg_price_are(lat, lon):\n",
    "    matches = cell_filter[(cell_filter['lat'] <= lat) & (lat <= cell_filter['lat'] + epsilon) &\n",
    "                          (cell_filter['log'] <= lon) & (lon <= cell_filter['log'] + epsilon)]\n",
    "\n",
    "    if len(matches) > 0:\n",
    "        return matches['avg_price'].mean()\n",
    "    else:\n",
    "        return cell_filter['avg_price'].mean()"
   ]
  },
  {
   "cell_type": "code",
   "execution_count": 10,
   "id": "32f35474",
   "metadata": {},
   "outputs": [
    {
     "name": "stdout",
     "output_type": "stream",
     "text": [
      "0.1133110766550197\n"
     ]
    }
   ],
   "source": [
    "# \"lon\":105.7472014\n",
    "# \"lat\":20.9686814\n",
    "print(get_avg_price_are(10.8390059, 106.6483673))\n"
   ]
  },
  {
   "cell_type": "code",
   "execution_count": null,
   "id": "0b4d5033",
   "metadata": {},
   "outputs": [],
   "source": []
  }
 ],
 "metadata": {
  "kernelspec": {
   "display_name": "venv (3.13.3)",
   "language": "python",
   "name": "python3"
  },
  "language_info": {
   "codemirror_mode": {
    "name": "ipython",
    "version": 3
   },
   "file_extension": ".py",
   "mimetype": "text/x-python",
   "name": "python",
   "nbconvert_exporter": "python",
   "pygments_lexer": "ipython3",
   "version": "3.13.3"
  }
 },
 "nbformat": 4,
 "nbformat_minor": 5
}
